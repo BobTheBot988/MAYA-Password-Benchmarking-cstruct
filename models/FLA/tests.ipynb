{
 "cells": [
  {
   "cell_type": "markdown",
   "metadata": {},
   "source": [
    "# Heap Memory Comparison: Tuples vs Objects vs C Structs\n",
    "\n",
    "This notebook compares memory usage of different data structures when used in heaps.\n",
    "Each section can be run independently to avoid overwhelming your system's RAM."
   ]
  },
  {
   "cell_type": "markdown",
   "metadata": {},
   "source": [
    "## Setup: Import Libraries and Define Classes"
   ]
  },
  {
   "cell_type": "code",
   "execution_count": 1,
   "metadata": {},
   "outputs": [
    {
     "name": "stdout",
     "output_type": "stream",
     "text": [
      "Initial memory usage: 69.18 MB\n"
     ]
    }
   ],
   "source": [
    "import sys\n",
    "import ctypes\n",
    "from heapq import heappush, heappop\n",
    "import gc\n",
    "import psutil\n",
    "import os\n",
    "from numpy import array\n",
    "def get_memory_usage():\n",
    "    \"\"\"Get current memory usage in MB\"\"\"\n",
    "    process = psutil.Process(os.getpid())\n",
    "    return process.memory_info().rss / 1024 / 1024\n",
    "\n",
    "print(f\"Initial memory usage: {get_memory_usage():.2f} MB\")"
   ]
  },
  {
   "cell_type": "markdown",
   "metadata": {},
   "source": [
    "## Class Definitions"
   ]
  },
  {
   "cell_type": "code",
   "execution_count": 2,
   "metadata": {},
   "outputs": [
    {
     "name": "stdout",
     "output_type": "stream",
     "text": [
      "heapItem class defined\n"
     ]
    }
   ],
   "source": [
    "class heapItem:\n",
    "    __slots__ = (\"password_byte\", \"probability\")\n",
    "    \n",
    "    def __init__(self, password: str, probability: float, max_length: int):\n",
    "        enc = password.encode('utf8')\n",
    "        if len(enc) > (max_length * 2):\n",
    "            raise ValueError(\"The password is too long\")\n",
    "        self.password_byte = enc.ljust((max_length * 2), b'\\x00')\n",
    "        self.probability = probability\n",
    "    \n",
    "    @property\n",
    "    def password(self) -> str:\n",
    "        return self.password_byte.rstrip(b'\\x00').decode('utf8')\n",
    "    \n",
    "    def __lt__(self, other) -> bool:\n",
    "        return self.probability < other.probability\n",
    "    \n",
    "    def __repr__(self) -> str:\n",
    "        return f\"heapItem({self.password!r},{self.probability})\"\n",
    "    \n",
    "    def sizeof(self) -> int:\n",
    "        return (object.__sizeof__(self) +\n",
    "                sys.getsizeof(self.password_byte) +\n",
    "                sys.getsizeof(self.probability))\n",
    "\n",
    "print(\"heapItem class defined\")"
   ]
  },
  {
   "cell_type": "code",
   "execution_count": 3,
   "metadata": {},
   "outputs": [
    {
     "name": "stdout",
     "output_type": "stream",
     "text": [
      "create_heap_item_class function defined\n"
     ]
    }
   ],
   "source": [
    "def create_heap_item_class(password_length: int):\n",
    "    class HeapItem(ctypes.Structure):\n",
    "        _fields_ = [\n",
    "            (\"password\", ctypes.c_char * password_length),\n",
    "            (\"probability\", ctypes.c_float)\n",
    "        ]\n",
    "        \n",
    "        def __init__(self, password, probability):\n",
    "            super().__init__()\n",
    "            # Pad or truncate to exact length\n",
    "            pwd_bytes: bytes = password.encode('utf-8')[:password_length]\n",
    "            self.password = pwd_bytes.ljust(password_length, b'\\0')\n",
    "            self.probability = probability\n",
    "        \n",
    "        def __lt__(self, other) -> bool:\n",
    "            return self.probability < other.probability\n",
    "        \n",
    "        def __sizeof__(self) -> int:\n",
    "            return ctypes.sizeof(self)\n",
    "        \n",
    "        @property\n",
    "        def password_string(self) -> str:\n",
    "            return self.password.decode('utf-8').rstrip('\\0')\n",
    "    \n",
    "    return HeapItem\n",
    "\n",
    "print(\"create_heap_item_class function defined\")"
   ]
  },
  {
   "cell_type": "code",
   "execution_count": null,
   "metadata": {},
   "outputs": [],
   "source": [
    "class HeapItemNumpy:\n",
    "    "
   ]
  },
  {
   "cell_type": "markdown",
   "metadata": {},
   "source": [
    "## Configuration"
   ]
  },
  {
   "cell_type": "code",
   "execution_count": 14,
   "metadata": {},
   "outputs": [
    {
     "name": "stdout",
     "output_type": "stream",
     "text": [
      "Testing with 1,000,000 items\n",
      "Memory usage before tests: 75.88 MB\n"
     ]
    }
   ],
   "source": [
    "# Adjust this number based on your available RAM\n",
    "# Start with 100,000 and increase if your system can handle it\n",
    "NUM_ITEMS = 1_000_000  # Reduced from 100_000_000 to prevent RAM issues\n",
    "PASSWORD_MAX_LENGTH = 10\n",
    "\n",
    "print(f\"Testing with {NUM_ITEMS:,} items\")\n",
    "print(f\"Memory usage before tests: {get_memory_usage():.2f} MB\")"
   ]
  },
  {
   "cell_type": "markdown",
   "metadata": {},
   "source": [
    "## Test 1: Tuple Heap"
   ]
  },
  {
   "cell_type": "code",
   "execution_count": 15,
   "metadata": {},
   "outputs": [
    {
     "name": "stdout",
     "output_type": "stream",
     "text": [
      "=== TUPLE HEAP TEST ===\n",
      "Memory after creation: 230.25 MB\n",
      "Memory used for creation: 154.38 MB\n",
      "Calculated tuple heap size: 144,337,618 bytes (137.65 MB)\n",
      "Memory after cleanup: 80.07 MB\n"
     ]
    }
   ],
   "source": [
    "print(\"=== TUPLE HEAP TEST ===\")\n",
    "heap_tuples = []\n",
    "memory_before = get_memory_usage()\n",
    "\n",
    "# Create and populate tuple heap\n",
    "for i in range(NUM_ITEMS):\n",
    "    heappush(heap_tuples, (float(i), f\"password_{i}\"))\n",
    "\n",
    "memory_after_creation = get_memory_usage()\n",
    "print(f\"Memory after creation: {memory_after_creation:.2f} MB\")\n",
    "print(f\"Memory used for creation: {memory_after_creation - memory_before:.2f} MB\")\n",
    "\n",
    "# Calculate total size\n",
    "tup_size = sys.getsizeof(heap_tuples)\n",
    "for item in heap_tuples:\n",
    "    tup_size += sys.getsizeof(item)\n",
    "    tup_size += sys.getsizeof(item[0])  # probability\n",
    "    tup_size += sys.getsizeof(item[1])  # password string\n",
    "\n",
    "print(f\"Calculated tuple heap size: {tup_size:,} bytes ({tup_size/1024/1024:.2f} MB)\")\n",
    "\n",
    "# Clean up\n",
    "del heap_tuples\n",
    "gc.collect()\n",
    "memory_after_cleanup = get_memory_usage()\n",
    "print(f\"Memory after cleanup: {memory_after_cleanup:.2f} MB\")"
   ]
  },
  {
   "cell_type": "markdown",
   "metadata": {},
   "source": [
    "## Test 2: Object Heap (with __slots__)"
   ]
  },
  {
   "cell_type": "code",
   "execution_count": 6,
   "metadata": {},
   "outputs": [
    {
     "name": "stdout",
     "output_type": "stream",
     "text": [
      "=== OBJECT HEAP TEST ===\n",
      "Memory after creation: 82.99 MB\n",
      "Memory used for creation: 10.38 MB\n",
      "Calculated object heap size: 11,700,984 bytes (11.16 MB)\n",
      "Memory after cleanup: 75.10 MB\n",
      "\n"
     ]
    }
   ],
   "source": [
    "print(\"=== OBJECT HEAP TEST ===\")\n",
    "heap_objects = []\n",
    "memory_before = get_memory_usage()\n",
    "\n",
    "# Create and populate object heap\n",
    "for i in range(NUM_ITEMS):\n",
    "    heappush(heap_objects, heapItem(f\"password_{i}\", float(i), PASSWORD_MAX_LENGTH))\n",
    "\n",
    "memory_after_creation = get_memory_usage()\n",
    "print(f\"Memory after creation: {memory_after_creation:.2f} MB\")\n",
    "print(f\"Memory used for creation: {memory_after_creation - memory_before:.2f} MB\")\n",
    "\n",
    "# Calculate total size\n",
    "obj_size = sys.getsizeof(heap_objects)\n",
    "for obj in heap_objects:\n",
    "    obj_size += obj.sizeof()\n",
    "\n",
    "print(f\"Calculated object heap size: {obj_size:,} bytes ({obj_size/1024/1024:.2f} MB)\")\n",
    "\n",
    "# Clean up\n",
    "del heap_objects\n",
    "gc.collect()\n",
    "memory_after_cleanup = get_memory_usage()\n",
    "print(f\"Memory after cleanup: {memory_after_cleanup:.2f} MB\")\n",
    "print()"
   ]
  },
  {
   "cell_type": "markdown",
   "metadata": {},
   "source": [
    "## Test 3: C Struct Heap"
   ]
  },
  {
   "cell_type": "code",
   "execution_count": 7,
   "metadata": {},
   "outputs": [
    {
     "name": "stdout",
     "output_type": "stream",
     "text": [
      "=== C STRUCT HEAP TEST ===\n",
      "Memory after creation: 81.72 MB\n",
      "Memory used for creation: 6.62 MB\n",
      "Calculated struct heap size: 2,400,984 bytes (2.29 MB)\n",
      "Memory after cleanup: 76.87 MB\n",
      "\n"
     ]
    }
   ],
   "source": [
    "print(\"=== C STRUCT HEAP TEST ===\")\n",
    "heap_struct = []\n",
    "memory_before = get_memory_usage()\n",
    "\n",
    "# Create the HeapItem class\n",
    "HeapItem = create_heap_item_class(PASSWORD_MAX_LENGTH)\n",
    "\n",
    "# Create and populate struct heap\n",
    "for i in range(NUM_ITEMS):\n",
    "    heappush(heap_struct, HeapItem(f\"password_{i}\", float(i)))\n",
    "\n",
    "memory_after_creation = get_memory_usage()\n",
    "print(f\"Memory after creation: {memory_after_creation:.2f} MB\")\n",
    "print(f\"Memory used for creation: {memory_after_creation - memory_before:.2f} MB\")\n",
    "\n",
    "# Calculate total size\n",
    "struct_size = sys.getsizeof(heap_struct)\n",
    "for struct_item in heap_struct:\n",
    "    struct_size += struct_item.__sizeof__()\n",
    "\n",
    "print(f\"Calculated struct heap size: {struct_size:,} bytes ({struct_size/1024/1024:.2f} MB)\")\n",
    "\n",
    "# Clean up\n",
    "del heap_struct\n",
    "del HeapItem\n",
    "gc.collect()\n",
    "memory_after_cleanup = get_memory_usage()\n",
    "print(f\"Memory after cleanup: {memory_after_cleanup:.2f} MB\")\n",
    "print()"
   ]
  },
  {
   "cell_type": "markdown",
   "metadata": {},
   "source": [
    "## Performance Test: Heap Operations"
   ]
  },
  {
   "cell_type": "code",
   "execution_count": 8,
   "metadata": {},
   "outputs": [
    {
     "name": "stdout",
     "output_type": "stream",
     "text": [
      "=== PERFORMANCE COMPARISON ===\n",
      "Performance test will use 10,000 items\n"
     ]
    }
   ],
   "source": [
    "import time\n",
    "\n",
    "print(\"=== PERFORMANCE COMPARISON ===\")\n",
    "PERF_TEST_SIZE = min(10000, NUM_ITEMS // 10)  # Smaller size for performance test\n",
    "\n",
    "def time_heap_operations(heap_type_name, create_func, num_items):\n",
    "    print(f\"\\n{heap_type_name} Performance:\")\n",
    "    \n",
    "    # Time creation\n",
    "    start_time = time.time()\n",
    "    heap, total_size = create_func(num_items)\n",
    "    creation_time = time.time() - start_time\n",
    "    \n",
    "    print(f\"  Creation time: {creation_time:.4f} seconds\")\n",
    "    print(f\"  Items created: {len(heap):,}\")\n",
    "    print(f\"  Total size: {total_size:,} bytes ({total_size/1024:.2f} KB)\")\n",
    "    \n",
    "    # Time popping all items\n",
    "    start_time = time.time()\n",
    "    popped_count = 0\n",
    "    while heap:\n",
    "        heappop(heap)\n",
    "        popped_count += 1\n",
    "    pop_time = time.time() - start_time\n",
    "    \n",
    "    print(f\"  Pop time: {pop_time:.4f} seconds\")\n",
    "    print(f\"  Items per second (creation): {num_items/creation_time:.0f}\")\n",
    "    print(f\"  Items per second (pop): {popped_count/pop_time:.0f}\")\n",
    "    \n",
    "    return creation_time, pop_time, total_size\n",
    "\n",
    "print(f\"Performance test will use {PERF_TEST_SIZE:,} items\")"
   ]
  },
  {
   "cell_type": "code",
   "execution_count": 9,
   "metadata": {},
   "outputs": [
    {
     "name": "stdout",
     "output_type": "stream",
     "text": [
      "Performance test functions defined\n"
     ]
    }
   ],
   "source": [
    "# Test functions\n",
    "def create_tuple_heap(num_items):\n",
    "    heap = []\n",
    "    for i in range(num_items):\n",
    "        heappush(heap, (float(i), f\"password_{i}\"))\n",
    "    \n",
    "    total_size = sys.getsizeof(heap)\n",
    "    for item in heap:\n",
    "        total_size += sys.getsizeof(item) + sys.getsizeof(item[0]) + sys.getsizeof(item[1])\n",
    "    \n",
    "    return heap, total_size\n",
    "\n",
    "def create_object_heap(num_items):\n",
    "    heap = []\n",
    "    for i in range(num_items):\n",
    "        heappush(heap, heapItem(f\"password_{i}\", float(i), PASSWORD_MAX_LENGTH))\n",
    "    \n",
    "    total_size = sys.getsizeof(heap)\n",
    "    for obj in heap:\n",
    "        total_size += obj.sizeof()\n",
    "    \n",
    "    return heap, total_size\n",
    "\n",
    "def create_struct_heap(num_items):\n",
    "    heap = []\n",
    "    HeapItem = create_heap_item_class(PASSWORD_MAX_LENGTH)\n",
    "    for i in range(num_items):\n",
    "        heappush(heap, HeapItem(f\"password_{i}\", float(i)))\n",
    "    \n",
    "    total_size = sys.getsizeof(heap)\n",
    "    for struct_item in heap:\n",
    "        total_size += struct_item.__sizeof__()\n",
    "    \n",
    "    return heap, total_size\n",
    "\n",
    "print(\"Performance test functions defined\")"
   ]
  },
  {
   "cell_type": "code",
   "execution_count": 10,
   "metadata": {},
   "outputs": [
    {
     "name": "stdout",
     "output_type": "stream",
     "text": [
      "\n",
      "Tuple Heap Performance:\n",
      "  Creation time: 0.0064 seconds\n",
      "  Items created: 10,000\n",
      "  Total size: 1,424,066 bytes (1390.69 KB)\n",
      "  Pop time: 0.0034 seconds\n",
      "  Items per second (creation): 1560787\n",
      "  Items per second (pop): 2905447\n"
     ]
    },
    {
     "data": {
      "text/plain": [
       "0"
      ]
     },
     "execution_count": 10,
     "metadata": {},
     "output_type": "execute_result"
    }
   ],
   "source": [
    "# Run performance tests\n",
    "tuple_times = time_heap_operations(\"Tuple Heap\", create_tuple_heap, PERF_TEST_SIZE)\n",
    "gc.collect()"
   ]
  },
  {
   "cell_type": "code",
   "execution_count": 11,
   "metadata": {},
   "outputs": [
    {
     "name": "stdout",
     "output_type": "stream",
     "text": [
      "\n",
      "Object Heap Performance:\n",
      "  Creation time: 0.0101 seconds\n",
      "  Items created: 10,000\n",
      "  Total size: 1,175,176 bytes (1147.63 KB)\n",
      "  Pop time: 0.0068 seconds\n",
      "  Items per second (creation): 988616\n",
      "  Items per second (pop): 1461685\n"
     ]
    },
    {
     "data": {
      "text/plain": [
       "0"
      ]
     },
     "execution_count": 11,
     "metadata": {},
     "output_type": "execute_result"
    }
   ],
   "source": [
    "object_times = time_heap_operations(\"Object Heap\", create_object_heap, PERF_TEST_SIZE)\n",
    "gc.collect()"
   ]
  },
  {
   "cell_type": "code",
   "execution_count": 12,
   "metadata": {},
   "outputs": [
    {
     "name": "stdout",
     "output_type": "stream",
     "text": [
      "\n",
      "C Struct Heap Performance:\n",
      "  Creation time: 0.0098 seconds\n",
      "  Items created: 10,000\n",
      "  Total size: 245,176 bytes (239.43 KB)\n",
      "  Pop time: 0.0128 seconds\n",
      "  Items per second (creation): 1025076\n",
      "  Items per second (pop): 780844\n"
     ]
    },
    {
     "data": {
      "text/plain": [
       "19"
      ]
     },
     "execution_count": 12,
     "metadata": {},
     "output_type": "execute_result"
    }
   ],
   "source": [
    "struct_times = time_heap_operations(\"C Struct Heap\", create_struct_heap, PERF_TEST_SIZE)\n",
    "gc.collect()"
   ]
  },
  {
   "cell_type": "markdown",
   "metadata": {},
   "source": [
    "## Summary and Comparison"
   ]
  },
  {
   "cell_type": "code",
   "execution_count": 13,
   "metadata": {},
   "outputs": [
    {
     "name": "stdout",
     "output_type": "stream",
     "text": [
      "=== FINAL COMPARISON SUMMARY ===\n",
      "Test size: 10,000 items\n",
      "\n",
      "Memory Efficiency (bytes per item):\n",
      "  Tuples:    142.4\n",
      "  Objects:   117.5\n",
      "  C Structs: 24.5\n",
      "\n",
      "Creation Speed (items/second):\n",
      "  Tuples:    1560787\n",
      "  Objects:   988616\n",
      "  C Structs: 1025076\n",
      "\n",
      "Pop Speed (items/second):\n",
      "  Tuples:    2905447\n",
      "  Objects:   1461685\n",
      "  C Structs: 780844\n",
      "\n",
      "Final memory usage: 75.88 MB\n"
     ]
    }
   ],
   "source": [
    "print(\"=== FINAL COMPARISON SUMMARY ===\")\n",
    "print(f\"Test size: {PERF_TEST_SIZE:,} items\")\n",
    "print()\n",
    "\n",
    "print(\"Memory Efficiency (bytes per item):\")\n",
    "print(f\"  Tuples:    {tuple_times[2]/PERF_TEST_SIZE:.1f}\")\n",
    "print(f\"  Objects:   {object_times[2]/PERF_TEST_SIZE:.1f}\")\n",
    "print(f\"  C Structs: {struct_times[2]/PERF_TEST_SIZE:.1f}\")\n",
    "print()\n",
    "\n",
    "print(\"Creation Speed (items/second):\")\n",
    "print(f\"  Tuples:    {PERF_TEST_SIZE/tuple_times[0]:.0f}\")\n",
    "print(f\"  Objects:   {PERF_TEST_SIZE/object_times[0]:.0f}\")\n",
    "print(f\"  C Structs: {PERF_TEST_SIZE/struct_times[0]:.0f}\")\n",
    "print()\n",
    "\n",
    "print(\"Pop Speed (items/second):\")\n",
    "print(f\"  Tuples:    {PERF_TEST_SIZE/tuple_times[1]:.0f}\")\n",
    "print(f\"  Objects:   {PERF_TEST_SIZE/object_times[1]:.0f}\")\n",
    "print(f\"  C Structs: {PERF_TEST_SIZE/struct_times[1]:.0f}\")\n",
    "\n",
    "print(f\"\\nFinal memory usage: {get_memory_usage():.2f} MB\")"
   ]
  },
  {
   "cell_type": "markdown",
   "metadata": {},
   "source": [
    "## Notes and Recommendations\n",
    "\n",
    "- **Memory Efficiency**: C structs typically use the least memory per item\n",
    "- **Speed**: Tuples are usually fastest for creation and access\n",
    "- **Flexibility**: Objects with `__slots__` provide a good balance\n",
    "- **Large Datasets**: For millions of items, consider using numpy arrays or memory-mapped files\n",
    "\n",
    "To test with larger datasets, increase `NUM_ITEMS` in the configuration section, but monitor your RAM usage!"
   ]
  }
 ],
 "metadata": {
  "kernelspec": {
   "display_name": "Python 3 (ipykernel)",
   "language": "python",
   "name": "python3"
  },
  "language_info": {
   "codemirror_mode": {
    "name": "ipython",
    "version": 3
   },
   "file_extension": ".py",
   "mimetype": "text/x-python",
   "name": "python",
   "nbconvert_exporter": "python",
   "pygments_lexer": "ipython3",
   "version": "3.13.5"
  }
 },
 "nbformat": 4,
 "nbformat_minor": 4
}
